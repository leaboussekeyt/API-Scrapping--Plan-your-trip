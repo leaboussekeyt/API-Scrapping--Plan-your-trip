{
 "cells": [
  {
   "cell_type": "code",
   "execution_count": 1,
   "metadata": {},
   "outputs": [],
   "source": [
    "# Import libs\n",
    "import requests\n",
    "from pandas.core.common import flatten\n",
    "import datetime as dt\n",
    "from datetime import date\n",
    "import pandas as pd\n"
   ]
  },
  {
   "cell_type": "code",
   "execution_count": 2,
   "metadata": {},
   "outputs": [],
   "source": [
    "interest_cities = [\"Mont Saint Michel\",\n",
    "\"St Malo\",\n",
    "\"Bayeux\",\n",
    "\"Le Havre\",\n",
    "\"Rouen\",\n",
    "\"Paris\",\n",
    "\"Amiens\",\n",
    "\"Lille\",\n",
    "\"Strasbourg\",\n",
    "\"Chateau du Haut Koenigsbourg\",\n",
    "\"Colmar\",\n",
    "\"Eguisheim\",\n",
    "\"Besancon\",\n",
    "\"Dijon\",\n",
    "\"Annecy\",\n",
    "\"Grenoble\",\n",
    "\"Lyon\",\n",
    "\"Gorges du Verdon\",\n",
    "\"Bormes les Mimosas\",\n",
    "\"Cassis\",\n",
    "\"Marseille\",\n",
    "\"Aix en Provence\",\n",
    "\"Avignon\",\n",
    "\"Uzes\",\n",
    "\"Nimes\",\n",
    "\"Aigues Mortes\",\n",
    "\"Saintes Maries de la mer\",\n",
    "\"Collioure\",\n",
    "\"Carcassonne\",\n",
    "\"Ariege\",\n",
    "\"Toulouse\",\n",
    "\"Montauban\",\n",
    "\"Biarritz\",\n",
    "\"Bayonne\",\n",
    "\"La Rochelle\"]"
   ]
  },
  {
   "cell_type": "markdown",
   "metadata": {},
   "source": [
    "# I. Get Cities Coordinates"
   ]
  },
  {
   "cell_type": "code",
   "execution_count": 3,
   "metadata": {},
   "outputs": [
    {
     "name": "stdout",
     "output_type": "stream",
     "text": [
      "True\n",
      "[['Mont Saint Michel', '48.6359541', '-1.511459954959514'], ['St Malo', '48.649518', '-2.0260409'], ['Bayeux', '49.2764624', '-0.7024738'], ['Le Havre', '49.4938975', '0.1079732'], ['Rouen', '49.4404591', '1.0939658'], ['Paris', '48.8588897', '2.3200410217200766'], ['Amiens', '49.8941708', '2.2956951'], ['Lille', '50.6365654', '3.0635282'], ['Strasbourg', '48.584614', '7.7507127'], ['Chateau du Haut Koenigsbourg', '48.249489800000006', '7.34429620253195'], ['Colmar', '48.0777517', '7.3579641'], ['Eguisheim', '48.0447968', '7.3079618'], ['Besancon', '47.2380222', '6.0243622'], ['Dijon', '47.3215806', '5.0414701'], ['Annecy', '45.8992348', '6.1288847'], ['Grenoble', '45.1875602', '5.7357819'], ['Lyon', '45.7578137', '4.8320114'], ['Gorges du Verdon', '43.7496562', '6.3285616'], ['Bormes les Mimosas', '43.1572172', '6.329253867921363'], ['Cassis', '43.2140359', '5.5396318'], ['Marseille', '43.2961743', '5.3699525'], ['Aix en Provence', '43.5298424', '5.4474738'], ['Avignon', '43.9492493', '4.8059012'], ['Uzes', '44.0121279', '4.4196718'], ['Nimes', '43.8374249', '4.3600687'], ['Aigues Mortes', '43.5658225', '4.1912837'], ['Saintes Maries de la mer', '43.4522771', '4.4287172'], ['Collioure', '42.52505', '3.0831554'], ['Carcassonne', '43.2130358', '2.3491069'], ['Ariege', '42.9455368', '1.4065544156065486'], ['Toulouse', '43.6044622', '1.4442469'], ['Montauban', '44.0175835', '1.3549991'], ['Biarritz', '43.471143749999996', '-1.552726590666314'], ['Bayonne', '43.4933379', '-1.475099'], ['La Rochelle', '46.1591126', '-1.1520434']]\n"
     ]
    }
   ],
   "source": [
    "keys = ['lat', 'lon'] #Select what we're interested in\n",
    "city_coordinates = []\n",
    "for city in interest_cities: \n",
    "    new_data = [city] #empty new data list to have one for that city\n",
    "    r = requests.get(\"https://nominatim.openstreetmap.org/search/{}?format=json&addressdetails=1&limit=1&polygon_svg=1>\" \\\n",
    "                     .format(city)) #Make the request\n",
    "    new_data.append([r.json()[0].get(key) for key in keys]) #Get latitude and flatiing\n",
    "    new_data = list(flatten(new_data)) # Flatten list otherwise nested list\n",
    "    city_coordinates.append(new_data) # Create nested list with the other cities\n",
    "\n",
    "print(len(city_coordinates)==len(interest_cities)) #sense check -- should return true\n",
    "print(city_coordinates) #check everything looks fine"
   ]
  },
  {
   "cell_type": "markdown",
   "metadata": {},
   "source": [
    "# II. Get Weather Data"
   ]
  },
  {
   "cell_type": "code",
   "execution_count": 8,
   "metadata": {},
   "outputs": [
    {
     "data": {
      "text/html": [
       "<div>\n",
       "<style scoped>\n",
       "    .dataframe tbody tr th:only-of-type {\n",
       "        vertical-align: middle;\n",
       "    }\n",
       "\n",
       "    .dataframe tbody tr th {\n",
       "        vertical-align: top;\n",
       "    }\n",
       "\n",
       "    .dataframe thead th {\n",
       "        text-align: right;\n",
       "    }\n",
       "</style>\n",
       "<table border=\"1\" class=\"dataframe\">\n",
       "  <thead>\n",
       "    <tr style=\"text-align: right;\">\n",
       "      <th></th>\n",
       "      <th>city</th>\n",
       "      <th>date</th>\n",
       "      <th>day_feels_like_temp</th>\n",
       "      <th>cloudiness_percent</th>\n",
       "      <th>prob_rain</th>\n",
       "      <th>rain</th>\n",
       "      <th>max_uv</th>\n",
       "    </tr>\n",
       "  </thead>\n",
       "  <tbody>\n",
       "    <tr>\n",
       "      <th>0</th>\n",
       "      <td>Mont Saint Michel</td>\n",
       "      <td>1644062400</td>\n",
       "      <td>6.96</td>\n",
       "      <td>12</td>\n",
       "      <td>0.37</td>\n",
       "      <td>0.13</td>\n",
       "      <td>1.22</td>\n",
       "    </tr>\n",
       "    <tr>\n",
       "      <th>1</th>\n",
       "      <td>Mont Saint Michel</td>\n",
       "      <td>1644148800</td>\n",
       "      <td>10.44</td>\n",
       "      <td>100</td>\n",
       "      <td>0.78</td>\n",
       "      <td>1.86</td>\n",
       "      <td>0.63</td>\n",
       "    </tr>\n",
       "    <tr>\n",
       "      <th>2</th>\n",
       "      <td>Mont Saint Michel</td>\n",
       "      <td>1644235200</td>\n",
       "      <td>8.18</td>\n",
       "      <td>20</td>\n",
       "      <td>0.56</td>\n",
       "      <td>NaN</td>\n",
       "      <td>0.88</td>\n",
       "    </tr>\n",
       "    <tr>\n",
       "      <th>3</th>\n",
       "      <td>Mont Saint Michel</td>\n",
       "      <td>1644321600</td>\n",
       "      <td>9.45</td>\n",
       "      <td>16</td>\n",
       "      <td>0.00</td>\n",
       "      <td>NaN</td>\n",
       "      <td>1.44</td>\n",
       "    </tr>\n",
       "    <tr>\n",
       "      <th>4</th>\n",
       "      <td>Mont Saint Michel</td>\n",
       "      <td>1644408000</td>\n",
       "      <td>8.87</td>\n",
       "      <td>2</td>\n",
       "      <td>0.00</td>\n",
       "      <td>NaN</td>\n",
       "      <td>1.50</td>\n",
       "    </tr>\n",
       "  </tbody>\n",
       "</table>\n",
       "</div>"
      ],
      "text/plain": [
       "                city        date  day_feels_like_temp  cloudiness_percent  \\\n",
       "0  Mont Saint Michel  1644062400                 6.96                  12   \n",
       "1  Mont Saint Michel  1644148800                10.44                 100   \n",
       "2  Mont Saint Michel  1644235200                 8.18                  20   \n",
       "3  Mont Saint Michel  1644321600                 9.45                  16   \n",
       "4  Mont Saint Michel  1644408000                 8.87                   2   \n",
       "\n",
       "   prob_rain  rain  max_uv  \n",
       "0       0.37  0.13    1.22  \n",
       "1       0.78  1.86    0.63  \n",
       "2       0.56   NaN    0.88  \n",
       "3       0.00   NaN    1.44  \n",
       "4       0.00   NaN    1.50  "
      ]
     },
     "execution_count": 8,
     "metadata": {},
     "output_type": "execute_result"
    }
   ],
   "source": [
    "## Naming some variables to be used in for loop later\n",
    "\n",
    "    ## For the requests\n",
    "api_key = \"7f6b9287bfa4d90843a0002a16be3b43\"\n",
    "units = \"metric\" #Get temperature in celsius\n",
    "\n",
    "\n",
    "    ## For the cleaning up \n",
    "#Because one of the element is more nested than the other, we need to do slightly more work on unpacking\n",
    "weather_keys = [\"dt\",\n",
    "                \"feels_like\",# to unpack further, + taking that one instead of temperature\n",
    "               \"clouds\",\n",
    "                'pop',\n",
    "                'rain',\n",
    "                'uvi'\n",
    "               ]\n",
    "\n",
    "weather_data = [] # This will become a list of dict with the same keys to then be transformed to pandas\n",
    "\n",
    "#Get cleaner keys to then pass to pandas from dict once already unpacked\n",
    "weather_clean_keys = ['city','date','day_feels_like_temp','cloudiness_percent',\"prob_rain\",\"rain\",\"max_uv\"]\n",
    "\n",
    "\n",
    "## Let's get all the data and clean it all up \n",
    "\n",
    "for city_list in city_coordinates:\n",
    "    \n",
    "    ## Requesting the data\n",
    "    \n",
    "    #Excluded current, minutely & hourly data as we only need daily & potentially alerts\n",
    "    r = requests.get(\"https://api.openweathermap.org/data/2.5/onecall?lat={}&lon={}&units={}&exclude=current,minutely,hourly&appid={}\"\\\n",
    "                 .format(city_list[1],city_list[2],units,api_key)) #Each city list has first the city name, then latitude then longitude\n",
    "    \n",
    "    \n",
    "    ## Cleaning up the output\n",
    "    \n",
    "    #Now for each city, we want to get clean data in the form of a clean list of dict with always the same keys\n",
    "    # This list of dict will then be passed to create a pandas dataframe\n",
    "    for date in r.json()['daily']:\n",
    "        new_weather_data = [date.get(key) for key in weather_keys] ## need to unpack futher the day \n",
    "        new_weather_data = [i if type(i) != dict else i['day'] for i in new_weather_data]\n",
    "        new_weather_data.insert(0,city_list[0])\n",
    "        new_weather_data = dict(zip(weather_clean_keys,new_weather_data)) #transform list to dict with clean keys\n",
    "        weather_data.append(new_weather_data)\n",
    "    \n",
    "    \n",
    "\n",
    "weather_df = pd.DataFrame(weather_data)\n",
    "weather_df.head(5)"
   ]
  },
  {
   "cell_type": "code",
   "execution_count": 14,
   "metadata": {},
   "outputs": [
    {
     "ename": "AttributeError",
     "evalue": "'Series' object has no attribute 'assign'",
     "output_type": "error",
     "traceback": [
      "\u001b[0;31m---------------------------------------------------------------------------\u001b[0m",
      "\u001b[0;31mAttributeError\u001b[0m                            Traceback (most recent call last)",
      "\u001b[0;32m<ipython-input-14-0d196922a436>\u001b[0m in \u001b[0;36m<module>\u001b[0;34m\u001b[0m\n\u001b[1;32m      1\u001b[0m \u001b[0;31m# Clean up DataFrame further\u001b[0m\u001b[0;34m\u001b[0m\u001b[0;34m\u001b[0m\u001b[0;34m\u001b[0m\u001b[0m\n\u001b[1;32m      2\u001b[0m \u001b[0;31m#weather_df['test'] = pd.Timestamp(weather_df['date'],unit='s')\u001b[0m\u001b[0;34m\u001b[0m\u001b[0;34m\u001b[0m\u001b[0;34m\u001b[0m\u001b[0m\n\u001b[0;32m----> 3\u001b[0;31m \u001b[0mweather_df\u001b[0m\u001b[0;34m[\u001b[0m\u001b[0;34m'test'\u001b[0m\u001b[0;34m]\u001b[0m \u001b[0;34m=\u001b[0m \u001b[0mweather_df\u001b[0m\u001b[0;34m.\u001b[0m\u001b[0mdate\u001b[0m\u001b[0;34m.\u001b[0m\u001b[0massign\u001b[0m\u001b[0;34m(\u001b[0m\u001b[0mProduct\u001b[0m\u001b[0;34m=\u001b[0m \u001b[0;32mlambda\u001b[0m \u001b[0mx\u001b[0m\u001b[0;34m:\u001b[0m \u001b[0mpd\u001b[0m\u001b[0;34m.\u001b[0m\u001b[0mTimestamp\u001b[0m\u001b[0;34m(\u001b[0m\u001b[0mx\u001b[0m\u001b[0;34m,\u001b[0m\u001b[0munit\u001b[0m\u001b[0;34m=\u001b[0m\u001b[0;34m's'\u001b[0m\u001b[0;34m)\u001b[0m\u001b[0;34m)\u001b[0m\u001b[0;34m\u001b[0m\u001b[0;34m\u001b[0m\u001b[0m\n\u001b[0m\u001b[1;32m      4\u001b[0m \u001b[0mweather_df\u001b[0m\u001b[0;34m.\u001b[0m\u001b[0mhead\u001b[0m\u001b[0;34m(\u001b[0m\u001b[0;34m)\u001b[0m\u001b[0;34m\u001b[0m\u001b[0;34m\u001b[0m\u001b[0m\n",
      "\u001b[0;32m~/Desktop/anaconda3/anaconda3/lib/python3.8/site-packages/pandas/core/generic.py\u001b[0m in \u001b[0;36m__getattr__\u001b[0;34m(self, name)\u001b[0m\n\u001b[1;32m   5137\u001b[0m             \u001b[0;32mif\u001b[0m \u001b[0mself\u001b[0m\u001b[0;34m.\u001b[0m\u001b[0m_info_axis\u001b[0m\u001b[0;34m.\u001b[0m\u001b[0m_can_hold_identifiers_and_holds_name\u001b[0m\u001b[0;34m(\u001b[0m\u001b[0mname\u001b[0m\u001b[0;34m)\u001b[0m\u001b[0;34m:\u001b[0m\u001b[0;34m\u001b[0m\u001b[0;34m\u001b[0m\u001b[0m\n\u001b[1;32m   5138\u001b[0m                 \u001b[0;32mreturn\u001b[0m \u001b[0mself\u001b[0m\u001b[0;34m[\u001b[0m\u001b[0mname\u001b[0m\u001b[0;34m]\u001b[0m\u001b[0;34m\u001b[0m\u001b[0;34m\u001b[0m\u001b[0m\n\u001b[0;32m-> 5139\u001b[0;31m             \u001b[0;32mreturn\u001b[0m \u001b[0mobject\u001b[0m\u001b[0;34m.\u001b[0m\u001b[0m__getattribute__\u001b[0m\u001b[0;34m(\u001b[0m\u001b[0mself\u001b[0m\u001b[0;34m,\u001b[0m \u001b[0mname\u001b[0m\u001b[0;34m)\u001b[0m\u001b[0;34m\u001b[0m\u001b[0;34m\u001b[0m\u001b[0m\n\u001b[0m\u001b[1;32m   5140\u001b[0m \u001b[0;34m\u001b[0m\u001b[0m\n\u001b[1;32m   5141\u001b[0m     \u001b[0;32mdef\u001b[0m \u001b[0m__setattr__\u001b[0m\u001b[0;34m(\u001b[0m\u001b[0mself\u001b[0m\u001b[0;34m,\u001b[0m \u001b[0mname\u001b[0m\u001b[0;34m:\u001b[0m \u001b[0mstr\u001b[0m\u001b[0;34m,\u001b[0m \u001b[0mvalue\u001b[0m\u001b[0;34m)\u001b[0m \u001b[0;34m->\u001b[0m \u001b[0;32mNone\u001b[0m\u001b[0;34m:\u001b[0m\u001b[0;34m\u001b[0m\u001b[0;34m\u001b[0m\u001b[0m\n",
      "\u001b[0;31mAttributeError\u001b[0m: 'Series' object has no attribute 'assign'"
     ]
    }
   ],
   "source": [
    "# Clean up DataFrame further\n",
    "#weather_df['test'] = pd.Timestamp(weather_df['date'],unit='s')\n",
    "weather_df['test'] = weather_df.date.assign(Product= lambda x: pd.Timestamp(x,unit='s'))\n",
    "weather_df.head()"
   ]
  },
  {
   "cell_type": "markdown",
   "metadata": {},
   "source": [
    "## III. Get Hotel Data"
   ]
  },
  {
   "cell_type": "code",
   "execution_count": 12,
   "metadata": {},
   "outputs": [
    {
     "data": {
      "text/plain": [
       "Timestamp('2022-02-05 12:00:00')"
      ]
     },
     "execution_count": 12,
     "metadata": {},
     "output_type": "execute_result"
    }
   ],
   "source": [
    "pd.Timestamp(1644062400,unit='s')  ## To put on entire colymn, maybe lambda not sure"
   ]
  },
  {
   "cell_type": "code",
   "execution_count": null,
   "metadata": {},
   "outputs": [],
   "source": []
  },
  {
   "cell_type": "code",
   "execution_count": null,
   "metadata": {},
   "outputs": [],
   "source": []
  }
 ],
 "metadata": {
  "kernelspec": {
   "display_name": "Python 3",
   "language": "python",
   "name": "python3"
  },
  "language_info": {
   "codemirror_mode": {
    "name": "ipython",
    "version": 3
   },
   "file_extension": ".py",
   "mimetype": "text/x-python",
   "name": "python",
   "nbconvert_exporter": "python",
   "pygments_lexer": "ipython3",
   "version": "3.8.5"
  }
 },
 "nbformat": 4,
 "nbformat_minor": 4
}
